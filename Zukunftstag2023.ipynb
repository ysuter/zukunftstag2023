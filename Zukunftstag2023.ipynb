{
  "nbformat": 4,
  "nbformat_minor": 0,
  "metadata": {
    "colab": {
      "provenance": [],
      "authorship_tag": "ABX9TyNvlfiYj6J5Tx3hEnm2+sBt",
      "include_colab_link": true
    },
    "kernelspec": {
      "name": "python3",
      "display_name": "Python 3"
    },
    "language_info": {
      "name": "python"
    }
  },
  "cells": [
    {
      "cell_type": "markdown",
      "metadata": {
        "id": "view-in-github",
        "colab_type": "text"
      },
      "source": [
        "<a href=\"https://colab.research.google.com/github/ysuter/zukunftstag2023/blob/main/Zukunftstag2023.ipynb\" target=\"_parent\"><img src=\"https://colab.research.google.com/assets/colab-badge.svg\" alt=\"Open In Colab\"/></a>"
      ]
    },
    {
      "cell_type": "markdown",
      "source": [
        "# Finde den Kürbis auf dem MRT-Bild"
      ],
      "metadata": {
        "id": "sRmCsVCgGRXM"
      }
    },
    {
      "cell_type": "markdown",
      "source": [
        "Drücke auf ![play.png](data:image/png;base64,iVBORw0KGgoAAAANSUhEUgAAAB0AAAAbCAYAAACAyoQSAAAAAXNSR0IArs4c6QAAAARnQU1BAACxjwv8YQUAAAAJcEhZcwAADsMAAA7DAcdvqGQAAABdaVRYdFNuaXBNZXRhZGF0YQAAAAAAeyJjbGlwUG9pbnRzIjpbeyJ4IjowLCJ5IjowfSx7IngiOjI5LCJ5IjowfSx7IngiOjI5LCJ5IjoyN30seyJ4IjowLCJ5IjoyN31dffNgVbgAAAIUSURBVEhL5ZW9jkFBFMfPvRQkFBqJr1ahQCVKD0GiEK3Gy/AKdNdDKOlESYlGoyDR4G7+J3OuWTuXS3btJvtLJvN9/jNzzsxYx+PRpTdjq/yt/B/Rp3w6mUxouVzSer2mzWbDbZlMhrLZLBWLRSqVStz2iECi8/mcHMeh3W6nWswkEglqNBq8gHs8FB2NRjQej1UtGLVajer1uqp95a5PXxEEmIO5frDofr+n1WrFabvdcgeO9BVBAXNhA8Cm2IeWt9NYLEa5XI6SySTX4UPhdDp56XK5cPAIqOv9MgY4ygZswjY0gPF4EaUSNOfzmUKhEIXDYc5hsNvtUqVS4X5g2zb3S0IdwIbsVscoulgsVIlYyLIsLiOXcrvdplarRZFIhOt+zGYzVbpiFJU7aMJ1Xd4NqFar1Ol0KJVKcd2EydZTojhq7DQajaoWonQ6Tc1mkwqFAvsTY3QCi5qAL7FL8ZcQj8c5sJDLCdwK32IU1aMTQBBJ96+Aa9Dr9Wg6nXIdi8LihFtb4KEoDPgJIsr7/f6nI8RYfVxg0Xw+r0rXo0Iu9xCP/mAwoOFwSIfDwWtHgiAWKJTLZVW6YhRFVOLxBvr9k4QnTo4TAnqf7nPYMD3+RlGA38KPe1dKx8+GJ4pj0t9erBC/xatgruxS3l5ogF/52v7mJ64Dcbyl8Kn4FVcCCVH6SEx4SvS78I3en+QXRIk+AJsuPLgtDrS9AAAAAElFTkSuQmCC)\n",
        "\n",
        "um den Code auszuführen"
      ],
      "metadata": {
        "id": "1VK_gMVFGYvM"
      }
    },
    {
      "cell_type": "code",
      "execution_count": null,
      "metadata": {
        "id": "fww6TFv39df4"
      },
      "outputs": [],
      "source": [
        "!git clone https://gist.github.com/ysuter/3090ca6dc1b67621093ec7bbd8f9bd04\n",
        "!wget https://raw.githubusercontent.com/ysuter/zukunftstag2023/main/images/gt.png\n"
      ]
    },
    {
      "cell_type": "code",
      "source": [
        "%run /content/3090ca6dc1b67621093ec7bbd8f9bd04/draw.py"
      ],
      "metadata": {
        "id": "LHFAX63AAvay"
      },
      "execution_count": null,
      "outputs": []
    },
    {
      "cell_type": "markdown",
      "source": [
        "Erkennst du den Kürbis auf dem Bild? Versuche ihn möglichst genau auf dem Bild einzuzeichnen. Du kannst die Stiftgrösse mit dem Regler anpassen. Wenn du denkst du bist fertig, drücke unten auf \"Speichern\", dann auf \"Fertig\". Wenn du neu beginnen möchtest, drücke auf \"Alles löschen\"."
      ],
      "metadata": {
        "id": "syIpAcWlSCbF"
      }
    },
    {
      "cell_type": "code",
      "source": [
        "draw(bg_color=\"transparent\",color=\"red\")"
      ],
      "metadata": {
        "id": "YntRR8A9-XRS"
      },
      "execution_count": null,
      "outputs": []
    },
    {
      "cell_type": "markdown",
      "source": [
        "Finde heraus, wie gut du warst :)"
      ],
      "metadata": {
        "id": "LJ7-jVJhSRcO"
      }
    },
    {
      "cell_type": "code",
      "source": [
        "eval()"
      ],
      "metadata": {
        "id": "qzm0o51u-a09"
      },
      "execution_count": null,
      "outputs": []
    }
  ]
}